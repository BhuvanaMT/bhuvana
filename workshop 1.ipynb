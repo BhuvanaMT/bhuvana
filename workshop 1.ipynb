{
 "cells": [
  {
   "cell_type": "code",
   "execution_count": 3,
   "id": "df41aab2",
   "metadata": {},
   "outputs": [
    {
     "name": "stdout",
     "output_type": "stream",
     "text": [
      "enter your name bhuuu\n"
     ]
    }
   ],
   "source": [
    "a=input(\"enter your name \")"
   ]
  },
  {
   "cell_type": "code",
   "execution_count": 2,
   "id": "4ac9675c",
   "metadata": {},
   "outputs": [
    {
     "name": "stdout",
     "output_type": "stream",
     "text": [
      "hellooooooo bhuvanaaa\n"
     ]
    }
   ],
   "source": [
    "a=input(\"hellooooooo \")"
   ]
  },
  {
   "cell_type": "code",
   "execution_count": 11,
   "id": "a18f87c8",
   "metadata": {},
   "outputs": [
    {
     "name": "stdout",
     "output_type": "stream",
     "text": [
      "enter a number9\n",
      "false\n",
      "the type of a is <class 'str'>\n",
      "the type of b is <class 'bool'>\n",
      "the type of c is <class 'int'>\n",
      "the type of d is <class 'NoneType'>\n"
     ]
    }
   ],
   "source": [
    "a= \"hi\"\n",
    "b= True\n",
    "c= 20\n",
    "d= None\n",
    "e= int(input(\"enter a number\"))\n",
    "if(e==1):\n",
    "    print(\"true\")\n",
    "else:\n",
    "    print(\"false\")\n",
    "print(\"the type of a is\",type(a))\n",
    "print(\"the type of b is\",type(b))\n",
    "print(\"the type of c is\",type(c))\n",
    "print(\"the type of d is\",type(d))"
   ]
  },
  {
   "cell_type": "code",
   "execution_count": 18,
   "id": "243578c6",
   "metadata": {},
   "outputs": [
    {
     "name": "stdout",
     "output_type": "stream",
     "text": [
      "enter first number2\n",
      "enter second number4\n",
      "enter the operator+\n",
      "result 6\n"
     ]
    }
   ],
   "source": [
    "a= int(input(\"enter first number\"))\n",
    "b= int(input(\"enter second number\"))\n",
    "c= input(\"enter the operator\")\n",
    "if c=='+':\n",
    "    print(\"result\",a+b)\n",
    "elif c=='-':\n",
    "    print(\"result\",a-b)\n",
    "elif c=='*':\n",
    "    print(\"result\",a*b)\n",
    "elif c=='%':\n",
    "    print(\"result\",a%b)  \n",
    "else:\n",
    "    print(\"invalid\")"
   ]
  },
  {
   "cell_type": "code",
   "execution_count": 19,
   "id": "be8bc78b",
   "metadata": {},
   "outputs": [
    {
     "name": "stdout",
     "output_type": "stream",
     "text": [
      "sub of 10 and 5 is 5\n"
     ]
    }
   ],
   "source": [
    "a=10\n",
    "b=5\n",
    "print(f\"sub of {a} and {b} is {a-b}\")"
   ]
  },
  {
   "cell_type": "code",
   "execution_count": null,
   "id": "6cf8342e",
   "metadata": {},
   "outputs": [],
   "source": []
  }
 ],
 "metadata": {
  "kernelspec": {
   "display_name": "Python 3 (ipykernel)",
   "language": "python",
   "name": "python3"
  },
  "language_info": {
   "codemirror_mode": {
    "name": "ipython",
    "version": 3
   },
   "file_extension": ".py",
   "mimetype": "text/x-python",
   "name": "python",
   "nbconvert_exporter": "python",
   "pygments_lexer": "ipython3",
   "version": "3.9.13"
  }
 },
 "nbformat": 4,
 "nbformat_minor": 5
}
